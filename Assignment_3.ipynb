{
  "nbformat": 4,
  "nbformat_minor": 0,
  "metadata": {
    "colab": {
      "name": "Assignment-3.ipynb",
      "provenance": [],
      "collapsed_sections": [],
      "authorship_tag": "ABX9TyMfYgnnxhzSu3FTH3S86g1T",
      "include_colab_link": true
    },
    "kernelspec": {
      "name": "python3",
      "display_name": "Python 3"
    }
  },
  "cells": [
    {
      "cell_type": "markdown",
      "metadata": {
        "id": "view-in-github",
        "colab_type": "text"
      },
      "source": [
        "<a href=\"https://colab.research.google.com/github/Neeraja4716/NNDL/blob/main/Assignment_3.ipynb\" target=\"_parent\"><img src=\"https://colab.research.google.com/assets/colab-badge.svg\" alt=\"Open In Colab\"/></a>"
      ]
    },
    {
      "cell_type": "markdown",
      "metadata": {
        "id": "3sr7rvbdksll"
      },
      "source": [
        "## **Assignment-3**\n",
        "# Stochastic Gradient"
      ]
    },
    {
      "cell_type": "code",
      "metadata": {
        "colab": {
          "base_uri": "https://localhost:8080/"
        },
        "id": "WuKVMqsPkzth",
        "outputId": "69e8c71d-ec03-4231-e0ce-2e55867102b3"
      },
      "source": [
        "\n",
        "x=[0.2,0.4,0.6,0.8]\n",
        "y=[3.4,3.8,4.2,4.6]\n",
        "\n",
        "#1\n",
        "m=1\n",
        "c=-1\n",
        "l_rate=0.1\n",
        "epochs=2\n",
        "ns=2\n",
        "#2\n",
        "it=0\n",
        "for i in range(0,epochs,1):\n",
        "    j=0\n",
        "    for j in range(0,ns,1):\n",
        "        d_em=(-1)*((y[j]-m*x[j]-c)*x[j])\n",
        "        d_ec=(-1)*(y[j]-m*x[j]-c)\n",
        "        d_m=(-1)*l_rate*d_em\n",
        "        d_c=(-1)*l_rate*d_ec\n",
        "        m=m+d_m\n",
        "        c=c+d_c\n",
        "        print(\"m value:\",m,\"\\t c value:\",c,x[j],y[j],'dem =',d_em,\"\\t dec=\",dec,\"\\t dm=\",dm,\"\\t dc=\",dc,\"\\n updated m value:\",m,\"\\n updated c value:\",c)\n",
        "print(\"final m value=\",m,'final c value=',c)"
      ],
      "execution_count": null,
      "outputs": [
        {
          "output_type": "stream",
          "text": [
            "m value: 1.084 \t c value: -0.5800000000000001 0.2 3.4 dem = -0.8399999999999999 \t dec= -4.2597458452096 \t dm= 0.0170389833808384 \t dc= 0.042597458452096 \n",
            " updated m value: 1.084 \n",
            " updated c value: -0.5800000000000001\n",
            "m value: 1.241856 \t c value: -0.18536000000000008 0.4 3.8 dem = -1.57856 \t dec= -4.2597458452096 \t dm= 0.0170389833808384 \t dc= 0.042597458452096 \n",
            " updated m value: 1.241856 \n",
            " updated c value: -0.18536000000000008\n",
            "m value: 1.308595776 \t c value: 0.14833887999999995 0.2 3.4 dem = -0.6673977600000001 \t dec= -4.2597458452096 \t dm= 0.0170389833808384 \t dc= 0.042597458452096 \n",
            " updated m value: 1.308595776 \n",
            " updated c value: 0.14833887999999995\n",
            "m value: 1.433724688384 \t c value: 0.46116116096 0.4 3.8 dem = -1.2512891238400001 \t dec= -4.2597458452096 \t dm= 0.0170389833808384 \t dc= 0.042597458452096 \n",
            " updated m value: 1.433724688384 \n",
            " updated c value: 0.46116116096\n",
            "final m value= 1.433724688384 final c value= 0.46116116096\n"
          ],
          "name": "stdout"
        }
      ]
    },
    {
      "cell_type": "code",
      "metadata": {
        "colab": {
          "base_uri": "https://localhost:8080/"
        },
        "id": "JurmW5l4spQ7",
        "outputId": "3ab9cbe4-209b-49aa-af95-59326e435a8d"
      },
      "source": [
        "y_p=0\n",
        "s=0\n",
        "for i in range(0,ns,1):\n",
        "    y_p=y[i]-m*x[i]+c  #calculating 'yp' value for each sample\n",
        "    s=s+(y[i]-y_p)**2  #summing them up to calculate MSE\n",
        "s=s/ns\n",
        "print(\"Mean Square Error :\",s)"
      ],
      "execution_count": null,
      "outputs": [
        {
          "output_type": "stream",
          "text": [
            "Mean Square Error : 1.3245609120538826\n"
          ],
          "name": "stdout"
        }
      ]
    }
  ]
}