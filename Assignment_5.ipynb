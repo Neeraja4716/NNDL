{
  "nbformat": 4,
  "nbformat_minor": 0,
  "metadata": {
    "colab": {
      "name": "Assignment-5.ipynb",
      "provenance": [],
      "collapsed_sections": [],
      "authorship_tag": "ABX9TyO78/Q0X87DtZyivS9FwrjP",
      "include_colab_link": true
    },
    "kernelspec": {
      "name": "python3",
      "display_name": "Python 3"
    },
    "language_info": {
      "name": "python"
    }
  },
  "cells": [
    {
      "cell_type": "markdown",
      "metadata": {
        "id": "view-in-github",
        "colab_type": "text"
      },
      "source": [
        "<a href=\"https://colab.research.google.com/github/Neeraja4716/NNDL/blob/main/Assignment_5.ipynb\" target=\"_parent\"><img src=\"https://colab.research.google.com/assets/colab-badge.svg\" alt=\"Open In Colab\"/></a>"
      ]
    },
    {
      "cell_type": "markdown",
      "metadata": {
        "id": "f8URGB7w0cl0"
      },
      "source": [
        "# **Assignment-5**\n",
        "# Mini Batch Gradient Decent\n"
      ]
    },
    {
      "cell_type": "code",
      "metadata": {
        "colab": {
          "base_uri": "https://localhost:8080/"
        },
        "id": "U809cmFGiPh9",
        "outputId": "8461626e-e448-453a-d1c9-33a0967b81f4"
      },
      "source": [
        "x=[0.2,0.4,0.6,0.8]\n",
        "y=[3.4,3.8,4.2,4.6]\n",
        "m=1\n",
        "c=-1\n",
        "l_rate=0.1\n",
        "epochs=2\n",
        "bs=2\n",
        "ns=4\n",
        "nb=int(ns/bs)\n",
        "\n",
        "#2 splitting the data into batches\n",
        "t=[]\n",
        "p=0\n",
        "i=0\n",
        "v=0\n",
        "q=0\n",
        "w=0\n",
        "\n",
        "for k in range(0,nb,1):\n",
        "    v=0\n",
        "    for i in range(q,nb*bs,1):\n",
        "        if v<bs:\n",
        "            #print('i=',w)\n",
        "            t.append(x[w])\n",
        "            v=v+1\n",
        "            w=w+1\n",
        "        else:\n",
        "            t.append(y[p])\n",
        "            p=p+1\n",
        "    i=i+1\n",
        "print(t)\n",
        "\n",
        "a=[]\n",
        "f=0\n",
        "for i in range(0,nb,1):\n",
        "    a.append(t[f:(f+bs*nb)])\n",
        "    f=f+(bs*nb)\n",
        "print('\\nBatches :',a)"
      ],
      "execution_count": 79,
      "outputs": [
        {
          "output_type": "stream",
          "text": [
            "[0.2, 0.4, 3.4, 3.8, 0.6, 0.8, 4.2, 4.6]\n",
            "\n",
            "Batches : [[0.2, 0.4, 3.4, 3.8], [0.6, 0.8, 4.2, 4.6]]\n"
          ],
          "name": "stdout"
        }
      ]
    },
    {
      "cell_type": "code",
      "metadata": {
        "colab": {
          "base_uri": "https://localhost:8080/"
        },
        "id": "ZfjVuSNM0E-j",
        "outputId": "bbefd1da-c2f5-46d8-f07c-8bb935d69972"
      },
      "source": [
        "#s=-2\n",
        "s0=0\n",
        "z=1\n",
        "dem=0\n",
        "dec=0\n",
        "dm=0\n",
        "dc=0\n",
        "#c=-1\n",
        "for i in range(0,epochs,1): #iters\n",
        "    \n",
        "    for b in range(0,nb,1): #batches\n",
        "        \n",
        "        s0=2\n",
        "        dem=0\n",
        "        dec=0\n",
        "        \n",
        "        for s in range(0,bs,1):\n",
        "            dem=dem+((a[b][s0]-(m*a[b][s])-c)*a[b][s])\n",
        "            dec=dec+(a[b][s0]-(m*a[b][s])-c)\n",
        "            s0=s0+1  \n",
        "        dem=-dem/bs\n",
        "        dec=-dec/bs\n",
        "        dm=-l_rate*dem\n",
        "        dc=-l_rate*dec\n",
        "        m=m+dm\n",
        "        c=c+dc\n",
        "        \n",
        "print('m =',m,'c =',c)"
      ],
      "execution_count": 80,
      "outputs": [
        {
          "output_type": "stream",
          "text": [
            "m = 1.74491399 c = 0.49570617\n"
          ],
          "name": "stdout"
        }
      ]
    },
    {
      "cell_type": "code",
      "metadata": {
        "colab": {
          "base_uri": "https://localhost:8080/"
        },
        "id": "Ni82mSu-0GnE",
        "outputId": "d6d8996c-1149-45e8-b000-500a992b8fd2"
      },
      "source": [
        "s=0\n",
        "for i in range(0,ns,1):\n",
        "    yp=y[i]-m*x[i]+c  #calculating 'yp' value for each sample\n",
        "    s=s+(y[i]-yp)**2  #summing them up to calculate MSE\n",
        "s=s/ns\n",
        "print(\"Mean Square Error :\",s)"
      ],
      "execution_count": null,
      "outputs": [
        {
          "output_type": "stream",
          "text": [
            "Mean Square Error : 0.2941774257630666\n"
          ],
          "name": "stdout"
        }
      ]
    }
  ]
}