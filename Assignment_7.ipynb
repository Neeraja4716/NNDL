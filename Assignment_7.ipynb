{
  "nbformat": 4,
  "nbformat_minor": 0,
  "metadata": {
    "colab": {
      "name": "Assignment-7.ipynb",
      "provenance": [],
      "authorship_tag": "ABX9TyNYFQCZ4mKXIEUBejT9oayt",
      "include_colab_link": true
    },
    "kernelspec": {
      "name": "python3",
      "display_name": "Python 3"
    },
    "language_info": {
      "name": "python"
    }
  },
  "cells": [
    {
      "cell_type": "markdown",
      "metadata": {
        "id": "view-in-github",
        "colab_type": "text"
      },
      "source": [
        "<a href=\"https://colab.research.google.com/github/Neeraja4716/NNDL/blob/main/Assignment_7.ipynb\" target=\"_parent\"><img src=\"https://colab.research.google.com/assets/colab-badge.svg\" alt=\"Open In Colab\"/></a>"
      ]
    },
    {
      "cell_type": "markdown",
      "metadata": {
        "id": "g6Zkk51M1zHK"
      },
      "source": [
        "## **Assignment-7**\n",
        "# Batch Gradient Descent"
      ]
    },
    {
      "cell_type": "code",
      "metadata": {
        "colab": {
          "base_uri": "https://localhost:8080/"
        },
        "id": "8hiC7Dmx1u9q",
        "outputId": "db490d52-f969-4724-e8d3-9dac94c7a70e"
      },
      "source": [
        "x=[0.2,0.4]\n",
        "y=[3.4,3.8]\n",
        "#1\n",
        "m=1\n",
        "c=-1\n",
        "l_rate=0.1\n",
        "epochs=2\n",
        "ns=2\n",
        "#2\n",
        "it=0\n",
        "d_ec=0\n",
        "d_em=0\n",
        "for i in range(0,epochs,1):\n",
        "    d_em=0\n",
        "    d_ec=0\n",
        "    for j in range(0,ns,1):\n",
        "        print(\"m:\",m,\"c:\",c,\"x[j]:\",x[j],\"y[j]:\",y[j])\n",
        "        d_em=d_em+((y[j]-(m*x[j])-c)*x[j])\n",
        "        d_ec=d_ec+((y[j]-(m*x[j])-c))\n",
        "        \n",
        "    d_em=-d_em/2\n",
        "    d_ec=-d_ec/2\n",
        "    print('d_em =',d_em,'d_ec =',d_ec,'\\n')\n",
        "    \n",
        "    d_m=(-1)*l_rate*d_em\n",
        "    d_c=(-1)*l_rate*d_ec\n",
        "    \n",
        "    m=m+d_m\n",
        "    c=c+d_c\n",
        "print(\"m =\",m,'c=',c)"
      ],
      "execution_count": null,
      "outputs": [
        {
          "output_type": "stream",
          "text": [
            "m: 1 c: -1 x[j]: 0.2 y[j]: 3.4\n",
            "m: 1 c: -1 x[j]: 0.4 y[j]: 3.8\n",
            "d_em = -1.3 d_ec = -4.3 \n",
            "\n",
            "m: 1.13 c: -0.5700000000000001 x[j]: 0.2 y[j]: 3.4\n",
            "m: 1.13 c: -0.5700000000000001 x[j]: 0.4 y[j]: 3.8\n",
            "d_em = -1.1580000000000001 d_ec = -3.831 \n",
            "\n",
            "m = 1.2458 c= -0.18690000000000007\n"
          ],
          "name": "stdout"
        }
      ]
    },
    {
      "cell_type": "code",
      "metadata": {
        "colab": {
          "base_uri": "https://localhost:8080/"
        },
        "id": "sXWSxD7x1tPL",
        "outputId": "ac103d8b-6ef0-4507-ca62-01cd3a520cb2"
      },
      "source": [
        "s=0\n",
        "for i in range(0,ns,1):\n",
        "    y_p=y[i]-m*x[i]+c  #calculating 'yp' value for each sample\n",
        "    s=s+(y[i]-y_p)**2  #summing them up to calculate MSE\n",
        "s=s/ns\n",
        "print(\"Mean Square Error :\",s)"
      ],
      "execution_count": null,
      "outputs": [
        {
          "output_type": "stream",
          "text": [
            "Mean Square Error : 0.32983738600000007\n"
          ],
          "name": "stdout"
        }
      ]
    }
  ]
}